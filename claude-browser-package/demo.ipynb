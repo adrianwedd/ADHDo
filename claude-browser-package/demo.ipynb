{
 "cells": [
  {
   "cell_type": "markdown",
   "metadata": {},
   "source": [
    "# Claude Browser Integration Demo\n",
    "\n",
    "This notebook demonstrates how to use the `claude-browser` package to interact with Claude.ai through browser automation.\n",
    "\n",
    "## Why Browser Automation?\n",
    "\n",
    "- ✅ **No API key required** - Uses your existing Claude session\n",
    "- ✅ **Bypasses Cloudflare** - Works where APIs fail\n",
    "- ✅ **Full Claude capabilities** - Access to all features\n",
    "- ✅ **Works on Raspberry Pi** - Optimized for ARM devices"
   ]
  },
  {
   "cell_type": "markdown",
   "metadata": {},
   "source": [
    "## Installation\n",
    "\n",
    "First, install the package and its dependencies:"
   ]
  },
  {
   "cell_type": "code",
   "execution_count": null,
   "metadata": {},
   "outputs": [],
   "source": [
    "# Install the package (uncomment if needed)\n",
    "# !pip install -e .\n",
    "\n",
    "# Install Playwright browsers (run once)\n",
    "# !playwright install chromium\n",
    "# !playwright install-deps"
   ]
  },
  {
   "cell_type": "markdown",
   "metadata": {},
   "source": [
    "## Authentication Setup\n",
    "\n",
    "You need to get your session cookies from Claude.ai:\n",
    "\n",
    "1. Log into [Claude.ai](https://claude.ai) in your browser\n",
    "2. Open Developer Tools (F12)\n",
    "3. Go to Application → Cookies → claude.ai\n",
    "4. Copy the `sessionKey` value\n",
    "5. Set it below:"
   ]
  },
  {
   "cell_type": "code",
   "execution_count": null,
   "metadata": {},
   "outputs": [],
   "source": [
    "import os\n",
    "\n",
    "# Set your session key here (or use environment variable)\n",
    "os.environ['CLAUDE_SESSION_KEY'] = 'sk-ant-sid01-...'  # Replace with your session key\n",
    "\n",
    "# Optional: Set organization and user IDs if you have them\n",
    "# os.environ['CLAUDE_ORG_ID'] = 'your-org-id'\n",
    "# os.environ['CLAUDE_USER_ID'] = 'your-user-id'"
   ]
  },
  {
   "cell_type": "markdown",
   "metadata": {},
   "source": [
    "## Basic Usage\n",
    "\n",
    "Let's start with a simple example:"
   ]
  },
  {
   "cell_type": "code",
   "execution_count": null,
   "metadata": {},
   "outputs": [],
   "source": [
    "import asyncio\n",
    "from claude_browser import ClaudeBrowserClient\n",
    "\n",
    "async def hello_claude():\n",
    "    \"\"\"Simple example to test the connection.\"\"\"\n",
    "    \n",
    "    # Create client (headless=False to see the browser)\n",
    "    client = ClaudeBrowserClient(headless=True)\n",
    "    \n",
    "    try:\n",
    "        # Connect to Claude\n",
    "        print(\"🚀 Connecting to Claude...\")\n",
    "        if await client.initialize():\n",
    "            print(\"✅ Connected!\")\n",
    "            \n",
    "            # Send a message\n",
    "            response = await client.send_message(\"Hello! Please respond with exactly 5 words.\")\n",
    "            print(f\"\\n🤖 Claude says: {response}\")\n",
    "        else:\n",
    "            print(\"❌ Failed to connect\")\n",
    "    finally:\n",
    "        await client.close()\n",
    "\n",
    "# Run the async function\n",
    "await hello_claude()"
   ]
  },
  {
   "cell_type": "markdown",
   "metadata": {},
   "source": [
    "## Interactive Conversation\n",
    "\n",
    "Now let's have a more interactive conversation:"
   ]
  },
  {
   "cell_type": "code",
   "execution_count": null,
   "metadata": {},
   "outputs": [],
   "source": [
    "class ClaudeChat:\n",
    "    \"\"\"Interactive Claude chat wrapper.\"\"\"\n",
    "    \n",
    "    def __init__(self):\n",
    "        self.client = None\n",
    "    \n",
    "    async def start(self):\n",
    "        \"\"\"Start the chat session.\"\"\"\n",
    "        self.client = ClaudeBrowserClient(headless=True)\n",
    "        success = await self.client.initialize()\n",
    "        if success:\n",
    "            print(\"✅ Claude is ready to chat!\")\n",
    "        else:\n",
    "            print(\"❌ Failed to connect to Claude\")\n",
    "        return success\n",
    "    \n",
    "    async def ask(self, question):\n",
    "        \"\"\"Ask Claude a question.\"\"\"\n",
    "        if not self.client:\n",
    "            print(\"❌ Not connected. Run start() first.\")\n",
    "            return\n",
    "        \n",
    "        print(f\"\\n💬 You: {question}\")\n",
    "        response = await self.client.send_message(question)\n",
    "        print(f\"\\n🤖 Claude: {response}\")\n",
    "        return response\n",
    "    \n",
    "    async def stop(self):\n",
    "        \"\"\"End the chat session.\"\"\"\n",
    "        if self.client:\n",
    "            await self.client.close()\n",
    "            print(\"\\n👋 Chat ended\")\n",
    "\n",
    "# Create chat instance\n",
    "chat = ClaudeChat()"
   ]
  },
  {
   "cell_type": "code",
   "execution_count": null,
   "metadata": {},
   "outputs": [],
   "source": [
    "# Start the chat\n",
    "await chat.start()"
   ]
  },
  {
   "cell_type": "code",
   "execution_count": null,
   "metadata": {},
   "outputs": [],
   "source": [
    "# Ask a question\n",
    "await chat.ask(\"What's the capital of France?\")"
   ]
  },
  {
   "cell_type": "code",
   "execution_count": null,
   "metadata": {},
   "outputs": [],
   "source": [
    "# Ask a follow-up question\n",
    "await chat.ask(\"Tell me one interesting fact about it.\")"
   ]
  },
  {
   "cell_type": "code",
   "execution_count": null,
   "metadata": {},
   "outputs": [],
   "source": [
    "# More complex question\n",
    "await chat.ask(\"Write a haiku about programming.\")"
   ]
  },
  {
   "cell_type": "code",
   "execution_count": null,
   "metadata": {},
   "outputs": [],
   "source": [
    "# End the chat\n",
    "await chat.stop()"
   ]
  },
  {
   "cell_type": "markdown",
   "metadata": {},
   "source": [
    "## Context Manager Example\n",
    "\n",
    "Using a context manager for automatic cleanup:"
   ]
  },
  {
   "cell_type": "code",
   "execution_count": null,
   "metadata": {},
   "outputs": [],
   "source": [
    "async def context_manager_example():\n",
    "    \"\"\"Example using context manager.\"\"\"\n",
    "    \n",
    "    # Context manager handles initialization and cleanup\n",
    "    async with ClaudeBrowserClient(headless=True) as client:\n",
    "        print(\"✅ Connected to Claude!\")\n",
    "        \n",
    "        # Send a message\n",
    "        response = await client.send_message(\n",
    "            \"Explain quantum computing in one sentence.\"\n",
    "        )\n",
    "        print(f\"\\nClaude: {response}\")\n",
    "    \n",
    "    print(\"\\n✅ Automatically cleaned up!\")\n",
    "\n",
    "await context_manager_example()"
   ]
  },
  {
   "cell_type": "markdown",
   "metadata": {},
   "source": [
    "## Error Handling\n",
    "\n",
    "Demonstrating proper error handling:"
   ]
  },
  {
   "cell_type": "code",
   "execution_count": null,
   "metadata": {},
   "outputs": [],
   "source": [
    "from claude_browser import (\n",
    "    ClaudeAuthenticationError,\n",
    "    ClaudeTimeoutError,\n",
    "    ClaudeResponseError\n",
    ")\n",
    "\n",
    "async def safe_chat():\n",
    "    \"\"\"Example with error handling.\"\"\"\n",
    "    \n",
    "    client = ClaudeBrowserClient(headless=True)\n",
    "    \n",
    "    try:\n",
    "        await client.initialize()\n",
    "        \n",
    "        # Try to send a message with a short timeout\n",
    "        response = await client.send_message(\n",
    "            \"What's 2+2?\",\n",
    "            timeout=5  # 5 second timeout\n",
    "        )\n",
    "        print(f\"Claude: {response}\")\n",
    "        \n",
    "    except ClaudeAuthenticationError:\n",
    "        print(\"❌ Authentication failed - check your session key\")\n",
    "    except ClaudeTimeoutError:\n",
    "        print(\"⏱️ Request timed out\")\n",
    "    except ClaudeResponseError:\n",
    "        print(\"📝 Failed to extract response\")\n",
    "    except Exception as e:\n",
    "        print(f\"❌ Unexpected error: {e}\")\n",
    "    finally:\n",
    "        await client.close()\n",
    "        print(\"Cleaned up\")\n",
    "\n",
    "await safe_chat()"
   ]
  },
  {
   "cell_type": "markdown",
   "metadata": {},
   "source": [
    "## Performance Test\n",
    "\n",
    "Let's measure response times:"
   ]
  },
  {
   "cell_type": "code",
   "execution_count": null,
   "metadata": {},
   "outputs": [],
   "source": [
    "import time\n",
    "\n",
    "async def performance_test():\n",
    "    \"\"\"Measure response times.\"\"\"\n",
    "    \n",
    "    async with ClaudeBrowserClient(headless=True) as client:\n",
    "        questions = [\n",
    "            \"What's 2+2?\",\n",
    "            \"Name a color.\",\n",
    "            \"Say 'hello'.\"\n",
    "        ]\n",
    "        \n",
    "        print(\"⏱️ Performance Test\\n\")\n",
    "        \n",
    "        for question in questions:\n",
    "            start = time.time()\n",
    "            response = await client.send_message(question)\n",
    "            elapsed = time.time() - start\n",
    "            \n",
    "            print(f\"Q: {question}\")\n",
    "            print(f\"A: {response}\")\n",
    "            print(f\"Time: {elapsed:.2f} seconds\\n\")\n",
    "\n",
    "await performance_test()"
   ]
  },
  {
   "cell_type": "markdown",
   "metadata": {},
   "source": [
    "## Tips and Tricks\n",
    "\n",
    "### 1. Debugging\n",
    "Set `headless=False` to see the browser:\n",
    "```python\n",
    "client = ClaudeBrowserClient(headless=False)\n",
    "```\n",
    "\n",
    "### 2. Custom Chromium Path\n",
    "For Raspberry Pi:\n",
    "```python\n",
    "client = ClaudeBrowserClient(\n",
    "    chromium_path=\"/usr/bin/chromium-browser\"\n",
    ")\n",
    "```\n",
    "\n",
    "### 3. Longer Timeouts\n",
    "For slow connections:\n",
    "```python\n",
    "client = ClaudeBrowserClient(timeout=60000)  # 60 seconds\n",
    "```\n",
    "\n",
    "### 4. Session Management\n",
    "Keep the client alive for multiple messages:\n",
    "```python\n",
    "client = ClaudeBrowserClient()\n",
    "await client.initialize()\n",
    "# Send many messages...\n",
    "await client.close()  # Only close when done\n",
    "```"
   ]
  },
  {
   "cell_type": "markdown",
   "metadata": {},
   "source": [
    "## Conclusion\n",
    "\n",
    "You now have a working Claude browser integration that:\n",
    "- ✅ Bypasses API limitations\n",
    "- ✅ Works without API keys\n",
    "- ✅ Handles ProseMirror editor correctly\n",
    "- ✅ Runs on Raspberry Pi\n",
    "- ✅ Provides full Claude capabilities\n",
    "\n",
    "Remember: The key breakthrough was handling ProseMirror with:\n",
    "```python\n",
    "await page.keyboard.press('Control+A')\n",
    "await page.keyboard.press('Backspace')\n",
    "```\n",
    "\n",
    "Happy chatting with Claude! 🤖"
   ]
  }
 ],
 "metadata": {
  "kernelspec": {
   "display_name": "Python 3",
   "language": "python",
   "name": "python3"
  },
  "language_info": {
   "codemirror_mode": {
    "name": "ipython",
    "version": 3
   },
   "file_extension": ".py",
   "mimetype": "text/x-python",
   "name": "python",
   "nbconvert_exporter": "python",
   "pygments_lexer": "ipython3",
   "version": "3.10.0"
  }
 },
 "nbformat": 4,
 "nbformat_minor": 4
}